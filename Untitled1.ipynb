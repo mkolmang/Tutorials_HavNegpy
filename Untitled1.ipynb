{
 "cells": [
  {
   "cell_type": "markdown",
   "id": "fcacce69",
   "metadata": {},
   "source": [
    "# Tutorial for Modulus Module"
   ]
  },
  {
   "cell_type": "code",
   "execution_count": 10,
   "id": "65b58ad4",
   "metadata": {},
   "outputs": [],
   "source": [
    "# import the necessary packages along with HavNegpy\n",
    "import numpy as np\n",
    "import pandas as pd\n",
    "import matplotlib.pyplot as plt\n",
    "import os\n",
    "import HavNegpy as dd\n",
    "%matplotlib inline"
   ]
  },
  {
   "cell_type": "code",
   "execution_count": 11,
   "id": "ab1cbddf",
   "metadata": {},
   "outputs": [],
   "source": [
    "# extract the data\n",
    "\n",
    "filename = 'mod_test_data.txt'\n",
    "col_names = ['mod','logf']\n",
    "df = pd.read_csv(filename, sep=',',index_col=False,usecols = [0,1],names=col_names,skiprows=1,header=None,encoding='unicode_escape',engine='python')"
   ]
  },
  {
   "cell_type": "markdown",
   "id": "09060441",
   "metadata": {},
   "source": [
    "## Fit the imaginary part of the Modulus\n",
    "It should be noted, that the absolute values of imaginary part of the modulus is anaylzed and not the logarithm.#\n"
   ]
  },
  {
   "cell_type": "code",
   "execution_count": 12,
   "id": "9220398e",
   "metadata": {},
   "outputs": [
    {
     "data": {
      "text/plain": [
       "Text(0.5, 1.0, 'Example for Modulus fitting')"
      ]
     },
     "execution_count": 12,
     "metadata": {},
     "output_type": "execute_result"
    },
    {
     "data": {
      "image/png": "[encoded data removed]",
      "text/plain": [
       "<Figure size 432x288 with 1 Axes>"
      ]
     },
     "metadata": {
      "needs_background": "light"
     },
     "output_type": "display_data"
    }
   ],
   "source": [
    "x = df['logf']\n",
    "y = df['mod']\n",
    "plt.scatter(x,y,label='example data')\n",
    "plt.xlabel('log f [Hz]')\n",
    "plt.ylabel('M\"')\n",
    "plt.legend()\n",
    "plt.title('Example for Modulus fitting')\n"
   ]
  },
  {
   "cell_type": "code",
   "execution_count": 13,
   "id": "0b2a7214",
   "metadata": {},
   "outputs": [],
   "source": [
    "# instantiate the HN module\n",
    "mod = dd.Modulus()"
   ]
  },
  {
   "cell_type": "code",
   "execution_count": 14,
   "id": "40557847",
   "metadata": {},
   "outputs": [
    {
     "name": "stderr",
     "output_type": "stream",
     "text": [
      "No artists with labels found to put in legend.  Note that artists whose label start with an underscore are ignored when legend() is called with no argument.\n"
     ]
    },
    {
     "name": "stdout",
     "output_type": "stream",
     "text": [
      "3.476 5.384\n",
      "[5.246464111611934, 5.100336075933696, 5.0, 4.954207764490956, 4.808079246224419, 4.66195175104504, 4.515823526192277, 4.369694431135181, 4.223568620149561, 4.077440584471324, 4.0, 3.931311386021832, 3.785183146858304, 3.639054968740307, 3.4929265342304943]\n",
      "[0.0635151, 0.0686461, 0.0717807, 0.0730859, 0.0760745, 0.0772289, 0.0758147, 0.0720006, 0.0661186, 0.0586503, 0.0543527, 0.0504457, 0.0423095, 0.0347618, 0.0280965]\n",
      "[(3.506240593651785, 0.027222145756190485), (5.354460299238795, 0.06169371347940478)]\n",
      "x_lower_limit 3.506240593651785 x_upper_limit 5.354460299238795\n"
     ]
    }
   ],
   "source": [
    "#select range\n",
    "%matplotlib qt\n",
    "x1,y1 = mod.select_range(x,y)"
   ]
  },
  {
   "cell_type": "markdown",
   "id": "a7488d26",
   "metadata": {},
   "source": [
    "## plot the ROI for fitting"
   ]
  },
  {
   "cell_type": "code",
   "execution_count": 15,
   "id": "9ef452c2",
   "metadata": {},
   "outputs": [
    {
     "data": {
      "text/plain": [
       "Text(0, 0.5, 'M\"')"
      ]
     },
     "execution_count": 15,
     "metadata": {},
     "output_type": "execute_result"
    },
    {
     "data": {
      "image/png": "[encoded data removed]",
      "text/plain": [
       "<Figure size 432x288 with 1 Axes>"
      ]
     },
     "metadata": {
      "needs_background": "light"
     },
     "output_type": "display_data"
    }
   ],
   "source": [
    "%matplotlib inline\n",
    "plt.scatter(x1,y1)\n",
    "plt.xlabel('log f [Hz]')\n",
    "plt.ylabel('M\"')"
   ]
  },
  {
   "cell_type": "code",
   "execution_count": 16,
   "id": "cff28dce",
   "metadata": {},
   "outputs": [
    {
     "name": "stdout",
     "output_type": "stream",
     "text": [
      "enter the beta value:0.5\n",
      "enter the Modulus maximum value:0.08\n",
      "enter the frequency max:4.6\n",
      "dumped_parameters {'beta': 0.5, 'Mmax': 0.08, 'fmax': 39810.71705534969}\n"
     ]
    },
    {
     "data": {
      "text/plain": [
       "()"
      ]
     },
     "execution_count": 16,
     "metadata": {},
     "output_type": "execute_result"
    }
   ],
   "source": [
    "#dump the initial guess parameters using dump parameters method (varies for each fn), which dumps the parameters in a json file'\n",
    "#this is required before performing the first fitting as it takes the initial guess from the json file created\n",
    "mod.dump_parameters()\n"
   ]
  },
  {
   "cell_type": "code",
   "execution_count": null,
   "id": "716e63b3",
   "metadata": {},
   "outputs": [],
   "source": []
  }
 ],
 "metadata": {
  "kernelspec": {
   "display_name": "Python 3 (ipykernel)",
   "language": "python",
   "name": "python3"
  },
  "language_info": {
   "codemirror_mode": {
    "name": "ipython",
    "version": 3
   },
   "file_extension": ".py",
   "mimetype": "text/x-python",
   "name": "python",
   "nbconvert_exporter": "python",
   "pygments_lexer": "ipython3",
   "version": "3.9.7"
  }
 },
 "nbformat": 4,
 "nbformat_minor": 5
}
