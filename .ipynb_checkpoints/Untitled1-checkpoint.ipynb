{
 "cells": [
  {
   "cell_type": "markdown",
   "id": "bb52f5fd",
   "metadata": {},
   "source": [
    "# Tutorial for Modulus Module"
   ]
  },
  {
   "cell_type": "code",
   "execution_count": 1,
   "id": "44fc5daa",
   "metadata": {},
   "outputs": [],
   "source": [
    "# import the necessary packages along with HavNegpy\n",
    "import numpy as np\n",
    "import pandas as pd\n",
    "import matplotlib.pyplot as plt\n",
    "import os\n",
    "import HavNegpy as dd\n",
    "%matplotlib qt"
   ]
  },
  {
   "cell_type": "code",
   "execution_count": 2,
   "id": "f8756339",
   "metadata": {},
   "outputs": [],
   "source": [
    "# extract the data\n",
    "\n",
    "filename = 'mod_test_data.txt'\n",
    "col_names = ['mod','logf']\n",
    "df = pd.read_csv(filename, sep=',',index_col=False,usecols = [0,1],names=col_names,header=None,encoding='unicode_escape',engine='python')"
   ]
  },
  {
   "cell_type": "markdown",
   "id": "54ea5a6c",
   "metadata": {},
   "source": [
    "## Fit the imaginary part of the Modulus\n",
    "It should be noted, that the absolute values of imaginary part of the modulus is anaylzed and not the logarithm.#\n"
   ]
  },
  {
   "cell_type": "code",
   "execution_count": 4,
   "id": "14e68d31",
   "metadata": {},
   "outputs": [
    {
     "data": {
      "text/plain": [
       "Text(0.5, 1.0, 'Example for Modulus fitting')"
      ]
     },
     "execution_count": 4,
     "metadata": {},
     "output_type": "execute_result"
    }
   ],
   "source": [
    "x = df['logf']\n",
    "y = df['mod']\n",
    "plt.scatter(x,y,label='example data')\n",
    "plt.xlabel('log f [Hz]')\n",
    "plt.ylabel('M\"')\n",
    "plt.legend()\n",
    "plt.title('Example for Modulus fitting')\n"
   ]
  },
  {
   "cell_type": "code",
   "execution_count": null,
   "id": "7dca7efa",
   "metadata": {},
   "outputs": [],
   "source": []
  }
 ],
 "metadata": {
  "kernelspec": {
   "display_name": "Python 3 (ipykernel)",
   "language": "python",
   "name": "python3"
  },
  "language_info": {
   "codemirror_mode": {
    "name": "ipython",
    "version": 3
   },
   "file_extension": ".py",
   "mimetype": "text/x-python",
   "name": "python",
   "nbconvert_exporter": "python",
   "pygments_lexer": "ipython3",
   "version": "3.9.7"
  }
 },
 "nbformat": 4,
 "nbformat_minor": 5
}
