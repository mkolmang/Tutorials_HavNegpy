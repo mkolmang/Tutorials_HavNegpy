{
 "cells": [
  {
   "cell_type": "code",
   "execution_count": 7,
   "id": "97320eba-7e0a-4f5c-aa95-f1c4d7770ecc",
   "metadata": {},
   "outputs": [],
   "source": [
    "import pandas as pd\n",
    "import numpy as np\n",
    "import HavNegpy as hpy\n",
    "import matplotlib.pyplot as plt\n",
    "hn = hpy.HN()"
   ]
  },
  {
   "cell_type": "code",
   "execution_count": 8,
   "id": "cdeee1c1-4b83-4598-af9f-df3a04ebf185",
   "metadata": {},
   "outputs": [],
   "source": [
    "import os\n",
    "os.chdir(r'C:\\Users\\mkolmang\\Desktop\\Desktop\\DIAL_package\\HavNegpy\\test_data')"
   ]
  },
  {
   "cell_type": "code",
   "execution_count": 9,
   "id": "f2815725-7e75-4a0e-9fb0-a151189b65cc",
   "metadata": {},
   "outputs": [],
   "source": [
    "filename = 'test_data.txt'\n",
    "col_names = ['f', 'eps1','eps2']\n",
    "# read only f and eps2, hence usecols = 0,2\n",
    "df = pd.read_csv(filename, sep='\\t',index_col=False,usecols = [0,2],names=col_names,header=None,skiprows=1,encoding='unicode_escape',engine='python')\n",
    "x = np.log10(df['f'])\n",
    "y = np.log10(df['eps2'])\n"
   ]
  },
  {
   "cell_type": "code",
   "execution_count": 11,
   "id": "3b51ac2a-50cf-4574-9cb7-a9aaafc4e5c9",
   "metadata": {},
   "outputs": [
    {
     "data": {
      "text/plain": [
       "<matplotlib.collections.PathCollection at 0x111d170ad00>"
      ]
     },
     "execution_count": 11,
     "metadata": {},
     "output_type": "execute_result"
    }
   ],
   "source": [
    "#plot the data\n",
    "%matplotlib qt\n",
    "plt.scatter(x,y)\n"
   ]
  },
  {
   "cell_type": "code",
   "execution_count": 13,
   "id": "e0de27e1-eeb0-4979-b36f-d650dfa4467d",
   "metadata": {},
   "outputs": [
    {
     "name": "stdout",
     "output_type": "stream",
     "text": [
      "x_lower_limit 0.08089514503121698 x_upper_limit 4.601037737382933\n"
     ]
    }
   ],
   "source": [
    "x1,y1 = hn.select_range(x,y)\n"
   ]
  },
  {
   "cell_type": "code",
   "execution_count": 14,
   "id": "cfb4e52e-82ab-4eeb-ba9d-349a6d7ea3c7",
   "metadata": {},
   "outputs": [
    {
     "data": {
      "text/plain": [
       "<matplotlib.collections.PathCollection at 0x111cf2f95e0>"
      ]
     },
     "execution_count": 14,
     "metadata": {},
     "output_type": "execute_result"
    }
   ],
   "source": [
    "plt.scatter(x1,y1)\n"
   ]
  },
  {
   "cell_type": "code",
   "execution_count": 15,
   "id": "01fd0b8c-e187-4113-9dca-c3cdc2b16991",
   "metadata": {},
   "outputs": [
    {
     "name": "stdin",
     "output_type": "stream",
     "text": [
      "enter the beta1 value: 0.5\n",
      "enter the gamma1 value: 1\n",
      "enter the fmax1: 0.75\n",
      "enter the deps1: 0.1\n",
      "enter the beta2 value: 0.5\n",
      "enter the gamma2 value: 1\n",
      "enter the fmax2: 3.56\n",
      "enter the deps2: 0.25\n",
      "enter the cond: 0\n",
      "enter the s: 1\n"
     ]
    },
    {
     "name": "stdout",
     "output_type": "stream",
     "text": [
      "dumped_parameters {'beta1': 0.5, 'gamma1': 1.0, 'freq1': 5.623413251903491, 'deps1': 0.1, 'beta2': 0.5, 'gamma2': 1.0, 'freq2': 3630.780547701014, 'deps2': 0.25, 'cond': 0.0, 'n': 1.0}\n"
     ]
    },
    {
     "data": {
      "text/plain": [
       "()"
      ]
     },
     "execution_count": 15,
     "metadata": {},
     "output_type": "execute_result"
    }
   ],
   "source": [
    "hn.dump_parameters_double_hn()\n"
   ]
  },
  {
   "cell_type": "code",
   "execution_count": 17,
   "id": "c05f6d98-9b4d-482c-91c0-6921a9b898cd",
   "metadata": {},
   "outputs": [
    {
     "name": "stdout",
     "output_type": "stream",
     "text": [
      "loaded parameters \n",
      " {'beta1': 0.5, 'gamma1': 1.0, 'freq1': 5.623413251903491, 'deps1': 0.1, 'beta2': 0.5, 'gamma2': 1.0, 'freq2': 3630.780547701014, 'deps2': 0.25, 'cond': 0.0, 'n': 1.0}\n"
     ]
    },
    {
     "data": {
      "text/plain": [
       "{'beta1': 0.5,\n",
       " 'gamma1': 1.0,\n",
       " 'freq1': 5.623413251903491,\n",
       " 'deps1': 0.1,\n",
       " 'beta2': 0.5,\n",
       " 'gamma2': 1.0,\n",
       " 'freq2': 3630.780547701014,\n",
       " 'deps2': 0.25}"
      ]
     },
     "execution_count": 17,
     "metadata": {},
     "output_type": "execute_result"
    }
   ],
   "source": [
    "hn.initial_view_double_hn(x1,y1)\n"
   ]
  },
  {
   "cell_type": "code",
   "execution_count": 24,
   "id": "b3612c2c-0b6f-4a34-9ac6-253f926bc237",
   "metadata": {},
   "outputs": [
    {
     "name": "stdin",
     "output_type": "stream",
     "text": [
      "Choose the fit function\n",
      " 1 -- HN, 2 -- HN with cond, 3 -- Hn-flank, 4 -- double HN, 5 -- double HN with cond: 4\n"
     ]
    },
    {
     "name": "stdout",
     "output_type": "stream",
     "text": [
      "[0.9618404866197008, 0.47981515226504295, 3.5049709120874937, 0.766960735423236, 0.8870267692358136, 0.42991385764393136, 2423.592233752748, 4.16144449083979]\n",
      "log fmax1: 0.7897313079442951 \n",
      "log fmax2: 3.7345706386093833\n",
      "fit parameters dumped for next iteration {'beta1': 0.8411643071112859, 'gamma1': 0.6247380618353219, 'freq1': 3.8252956050217857, 'deps1': 0.8080779674472228, 'beta2': 0.8785782588541243, 'gamma2': 0.4365853186052251, 'freq2': 2448.1362462769807, 'deps2': 4.1844704431353295, 'cond': 0, 'n': 1}\n"
     ]
    }
   ],
   "source": [
    "fit_par = hn.fit(x1,y1)"
   ]
  },
  {
   "cell_type": "code",
   "execution_count": 20,
   "id": "7913f78f-29bb-4f5a-9246-bbfce26b90f0",
   "metadata": {},
   "outputs": [
    {
     "name": "stdout",
     "output_type": "stream",
     "text": [
      "x_lower_limit -0.9729838709677421 x_upper_limit 4.7155241935483865\n"
     ]
    }
   ],
   "source": [
    "x2,y2 = hn.select_range(x,y)\n"
   ]
  },
  {
   "cell_type": "code",
   "execution_count": 23,
   "id": "f9ca30f7-1c86-45c7-a555-665a6f1b006c",
   "metadata": {},
   "outputs": [
    {
     "name": "stdin",
     "output_type": "stream",
     "text": [
      "Choose the fit function\n",
      " 1 -- HN, 2 -- HN with cond, 3 -- Hn-flank, 4 -- double HN, 5 -- double HN with cond: 5\n"
     ]
    },
    {
     "name": "stdout",
     "output_type": "stream",
     "text": [
      "[0.9618404866197008, 0.47981515226504295, 3.5049709120874937, 0.766960735423236, 0.8870267692358136, 0.42991385764393136, 2423.592233752748, 4.16144449083979, 0.04194527176019957, 0.9893734773060542]\n",
      "log fmax1: 0.8131040189646443 \n",
      "log fmax2: 3.7320847955406418\n",
      "fit parameters dumped for next iteration {'beta1': 0.9618404866197008, 'gamma1': 0.47981515226504295, 'freq1': 3.5049709120874937, 'deps1': 0.766960735423236, 'beta2': 0.8870267692358136, 'gamma2': 0.42991385764393136, 'freq2': 2423.592233752748, 'deps2': 4.16144449083979, 'cond': 0.04194527176019957, 'n': 0.9893734773060542}\n"
     ]
    },
    {
     "data": {
      "text/plain": [
       "{'beta1': 0.9618404866197008,\n",
       " 'gamma1': 0.47981515226504295,\n",
       " 'freq1': 3.5049709120874937,\n",
       " 'deps1': 0.766960735423236,\n",
       " 'beta2': 0.8870267692358136,\n",
       " 'gamma2': 0.42991385764393136,\n",
       " 'freq2': 2423.592233752748,\n",
       " 'deps2': 4.16144449083979,\n",
       " 'cond': 0.04194527176019957,\n",
       " 'n': 0.9893734773060542}"
      ]
     },
     "execution_count": 23,
     "metadata": {},
     "output_type": "execute_result"
    }
   ],
   "source": [
    "hn.fit(x2,y2)\n"
   ]
  },
  {
   "cell_type": "code",
   "execution_count": null,
   "id": "089c25a7-129e-4f1a-bb22-7f50830a8385",
   "metadata": {},
   "outputs": [],
   "source": []
  }
 ],
 "metadata": {
  "kernelspec": {
   "display_name": "Python 3 (ipykernel)",
   "language": "python",
   "name": "python3"
  },
  "language_info": {
   "codemirror_mode": {
    "name": "ipython",
    "version": 3
   },
   "file_extension": ".py",
   "mimetype": "text/x-python",
   "name": "python",
   "nbconvert_exporter": "python",
   "pygments_lexer": "ipython3",
   "version": "3.9.7"
  }
 },
 "nbformat": 4,
 "nbformat_minor": 5
}
